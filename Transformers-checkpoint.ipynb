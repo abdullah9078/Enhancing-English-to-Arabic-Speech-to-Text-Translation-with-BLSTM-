{
 "cells": [
  {
   "cell_type": "code",
   "execution_count": null,
   "metadata": {
    "colab": {
     "base_uri": "https://localhost:8080/"
    },
    "id": "r959NV920El7",
    "outputId": "199f61da-c607-46fe-d9ae-633201ff579e"
   },
   "outputs": [
    {
     "name": "stdout",
     "output_type": "stream",
     "text": [
      "done\n"
     ]
    },
    {
     "name": "stderr",
     "output_type": "stream",
     "text": [
      "WARNING: Ignoring invalid distribution -treamlit (c:\\users\\zain\\appdata\\local\\programs\\python\\python38\\lib\\site-packages)\n",
      "WARNING: Ignoring invalid distribution -treamlit (c:\\users\\zain\\appdata\\local\\programs\\python\\python38\\lib\\site-packages)\n",
      "WARNING: Ignoring invalid distribution -treamlit (c:\\users\\zain\\appdata\\local\\programs\\python\\python38\\lib\\site-packages)\n",
      "WARNING: Ignoring invalid distribution -treamlit (c:\\users\\zain\\appdata\\local\\programs\\python\\python38\\lib\\site-packages)\n",
      "WARNING: Ignoring invalid distribution -treamlit (c:\\users\\zain\\appdata\\local\\programs\\python\\python38\\lib\\site-packages)\n"
     ]
    },
    {
     "name": "stdout",
     "output_type": "stream",
     "text": [
      "done\n"
     ]
    },
    {
     "name": "stderr",
     "output_type": "stream",
     "text": [
      "WARNING: Ignoring invalid distribution -treamlit (c:\\users\\zain\\appdata\\local\\programs\\python\\python38\\lib\\site-packages)\n",
      "WARNING: Ignoring invalid distribution -treamlit (c:\\users\\zain\\appdata\\local\\programs\\python\\python38\\lib\\site-packages)\n",
      "WARNING: Ignoring invalid distribution -treamlit (c:\\users\\zain\\appdata\\local\\programs\\python\\python38\\lib\\site-packages)\n",
      "WARNING: Ignoring invalid distribution -treamlit (c:\\users\\zain\\appdata\\local\\programs\\python\\python38\\lib\\site-packages)\n",
      "WARNING: Ignoring invalid distribution -treamlit (c:\\users\\zain\\appdata\\local\\programs\\python\\python38\\lib\\site-packages)\n"
     ]
    },
    {
     "name": "stdout",
     "output_type": "stream",
     "text": [
      "done\n"
     ]
    },
    {
     "name": "stderr",
     "output_type": "stream",
     "text": [
      "WARNING: Ignoring invalid distribution -treamlit (c:\\users\\zain\\appdata\\local\\programs\\python\\python38\\lib\\site-packages)\n",
      "WARNING: Ignoring invalid distribution -treamlit (c:\\users\\zain\\appdata\\local\\programs\\python\\python38\\lib\\site-packages)\n",
      "WARNING: Ignoring invalid distribution -treamlit (c:\\users\\zain\\appdata\\local\\programs\\python\\python38\\lib\\site-packages)\n",
      "WARNING: Ignoring invalid distribution -treamlit (c:\\users\\zain\\appdata\\local\\programs\\python\\python38\\lib\\site-packages)\n",
      "WARNING: Ignoring invalid distribution -treamlit (c:\\users\\zain\\appdata\\local\\programs\\python\\python38\\lib\\site-packages)\n"
     ]
    }
   ],
   "source": [
    "! pip install -q transformers\n",
    "print('done')\n",
    "!pip install -q transformers[sentencepiece]\n",
    "print('done')\n",
    "!pip install -q sentencepiece\n",
    "print('done')\n",
    "!pip install -q gtts\n",
    "print('done')\n"
   ]
  },
  {
   "cell_type": "code",
   "execution_count": 3,
   "metadata": {
    "id": "gf9HwHsR0KAw"
   },
   "outputs": [
    {
     "ename": "SyntaxError",
     "evalue": "invalid syntax (transformers.py, line 10)",
     "output_type": "error",
     "traceback": [
      "Traceback \u001b[1;36m(most recent call last)\u001b[0m:\n",
      "  File \u001b[0;32m\"c:\\users\\zain\\appdata\\local\\programs\\python\\python38\\lib\\site-packages\\IPython\\core\\interactiveshell.py\"\u001b[0m, line \u001b[0;32m3441\u001b[0m, in \u001b[0;35mrun_code\u001b[0m\n    exec(code_obj, self.user_global_ns, self.user_ns)\n",
      "\u001b[1;36m  File \u001b[1;32m\"C:\\Users\\zain\\AppData\\Local\\Temp/ipykernel_6976/4287807559.py\"\u001b[1;36m, line \u001b[1;32m1\u001b[1;36m, in \u001b[1;35m<module>\u001b[1;36m\u001b[0m\n\u001b[1;33m    from transformers import pipeline\u001b[0m\n",
      "\u001b[1;36m  File \u001b[1;32m\"C:\\Users\\zain\\Desktop\\Notebook\\Assignment no 1\\transformers.py\"\u001b[1;36m, line \u001b[1;32m10\u001b[0m\n\u001b[1;33m    ! pip install transformers\u001b[0m\n\u001b[1;37m    ^\u001b[0m\n\u001b[1;31mSyntaxError\u001b[0m\u001b[1;31m:\u001b[0m invalid syntax\n"
     ]
    }
   ],
   "source": [
    "from transformers import pipeline"
   ]
  },
  {
   "cell_type": "code",
   "execution_count": null,
   "metadata": {
    "id": "3ezUVkWx1MgP"
   },
   "outputs": [],
   "source": [
    "classifier = pipeline(\"automatic-speech-recognition\",model='fractalego/personal-speech-to-text-model')\n",
    "translation = pipeline('translation_XX_to_YY',model='Helsinki-NLP/opus-mt-en-ar')"
   ]
  },
  {
   "cell_type": "code",
   "execution_count": null,
   "metadata": {
    "colab": {
     "base_uri": "https://localhost:8080/",
     "height": 74,
     "resources": {
      "http://localhost:8080/nbextensions/google.colab/files.js": {
       "data": "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",
       "headers": [
        [
         "content-type",
         "application/javascript"
        ]
       ],
       "ok": true,
       "status": 200,
       "status_text": ""
      }
     }
    },
    "id": "iD4uKNS1AE5a",
    "outputId": "eb5449bc-7d3c-4c2c-80ff-1ce4e377c5e7"
   },
   "outputs": [
    {
     "data": {
      "text/html": [
       "\n",
       "     <input type=\"file\" id=\"files-ea4a809d-52d2-43ad-94a3-9729ca60b409\" name=\"files[]\" multiple disabled\n",
       "        style=\"border:none\" />\n",
       "     <output id=\"result-ea4a809d-52d2-43ad-94a3-9729ca60b409\">\n",
       "      Upload widget is only available when the cell has been executed in the\n",
       "      current browser session. Please rerun this cell to enable.\n",
       "      </output>\n",
       "      <script src=\"/nbextensions/google.colab/files.js\"></script> "
      ],
      "text/plain": [
       "<IPython.core.display.HTML object>"
      ]
     },
     "metadata": {},
     "output_type": "display_data"
    },
    {
     "name": "stdout",
     "output_type": "stream",
     "text": [
      "Saving WhatsApp Ptt 2022-03-05 at 5.45.21 PM.mp3 to WhatsApp Ptt 2022-03-05 at 5.45.21 PM.mp3\n"
     ]
    }
   ],
   "source": [
    "from google.colab import files\n",
    "uploaded = files.upload()\n"
   ]
  },
  {
   "cell_type": "code",
   "execution_count": null,
   "metadata": {
    "id": "ZGGs6gZDA90C"
   },
   "outputs": [],
   "source": [
    "file =\"/content/One Minute English #1 - Learn Vocabulary Fast.mp3\"\n",
    "file1 = '/content/WhatsApp Ptt 2022-03-05 at 5.45.21 PM.mp3'\n",
    "file2='/content/11.ogg'"
   ]
  },
  {
   "cell_type": "code",
   "execution_count": null,
   "metadata": {
    "colab": {
     "base_uri": "https://localhost:8080/"
    },
    "id": "TPW7iDCLDaFQ",
    "outputId": "831f429f-bce8-4a79-9d3d-a12aeb7f9bce"
   },
   "outputs": [
    {
     "name": "stdout",
     "output_type": "stream",
     "text": [
      "English Translation is  ['HELLO MY NAME IS ZAN LAHASAN']\n",
      "Arabic translation is  ['مرحباً، اسمي هو (زان لاهاسان)']\n"
     ]
    }
   ],
   "source": [
    "\n",
    "speech2text = classifier(file1)\n",
    "text= list(speech2text.values())\n",
    "text2text = translation(text)\n",
    "text2 =list(text2text[0].values())\n",
    "\n",
    "print('English Translation is ',text)\n",
    "print(\"Arabic translation is \",text2)"
   ]
  },
  {
   "cell_type": "code",
   "execution_count": null,
   "metadata": {
    "id": "jJ87tMELDfCG"
   },
   "outputs": [],
   "source": [
    "\n",
    "from gtts import gTTS\n",
    "mytext =' '.join([str(elem) for elem in text2])\n",
    "language = 'ar'\n",
    "myobj = gTTS(text=mytext, lang=language, slow=False)\n",
    "myobj.save(\"welcome.mp3\")"
   ]
  },
  {
   "cell_type": "code",
   "execution_count": null,
   "metadata": {
    "colab": {
     "base_uri": "https://localhost:8080/",
     "height": 74
    },
    "id": "GyY6u3-ZEIOe",
    "outputId": "fe1cc40b-ad54-423c-f688-97a6a53809b7"
   },
   "outputs": [
    {
     "data": {
      "text/html": [
       "\n",
       "                <audio controls=\"controls\" >\n",
       "                    <source src=\"data:audio/mpeg;base64,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\" type=\"audio/mpeg\" />\n",
       "                    Your browser does not support the audio element.\n",
       "                </audio>\n",
       "              "
      ],
      "text/plain": [
       "<IPython.lib.display.Audio object>"
      ]
     },
     "execution_count": 9,
     "metadata": {},
     "output_type": "execute_result"
    }
   ],
   "source": [
    "from IPython.display import Audio\n",
    "Audio(\"welcome.mp3\")\n"
   ]
  },
  {
   "cell_type": "code",
   "execution_count": null,
   "metadata": {
    "id": "SsJ0jzqUy6N_"
   },
   "outputs": [],
   "source": []
  }
 ],
 "metadata": {
  "colab": {
   "collapsed_sections": [],
   "name": "Transformers.ipynb",
   "provenance": []
  },
  "kernelspec": {
   "display_name": "Python 3 (ipykernel)",
   "language": "python",
   "name": "python3"
  },
  "language_info": {
   "codemirror_mode": {
    "name": "ipython",
    "version": 3
   },
   "file_extension": ".py",
   "mimetype": "text/x-python",
   "name": "python",
   "nbconvert_exporter": "python",
   "pygments_lexer": "ipython3",
   "version": "3.8.10"
  }
 },
 "nbformat": 4,
 "nbformat_minor": 1
}
